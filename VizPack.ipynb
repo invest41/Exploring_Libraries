{
  "cells": [
    {
      "cell_type": "markdown",
      "metadata": {
        "colab_type": "text",
        "id": "view-in-github"
      },
      "source": [
        "<a href=\"https://colab.research.google.com/nvest41/Exploring_Libraries/edit/main/VizPack.ipynb\" target=\"_parent\"><img src=\"https://colab.research.google.com/assets/colab-badge.svg\" alt=\"Open In Colab\"/></a>"
      ]
    },
    {
      "cell_type": "code",
      "execution_count": 1,
      "metadata": {},
      "outputs": [
        {
          "name": "stdout",
          "output_type": "stream",
          "text": [
            "Note: you may need to restart the kernel to use updated packages.\n"
          ]
        }
      ],
      "source": [
        "!pip install VizPack -q"
      ]
    },
    {
      "cell_type": "code",
      "execution_count": 2,
      "metadata": {},
      "outputs": [],
      "source": [
        "#Access Data Analysis Libraries\n",
        "\n",
        "# NumPy \n",
        "from VizPack.vizpack import np\n",
        "\n",
        "# Pandas\n",
        "from VizPack.vizpack import pd\n",
        "\n",
        "# Seaborn\n",
        "from VizPack.vizpack import sns\n",
        "\n",
        "# Matplotlib.pyplot\n",
        "from VizPack.vizpack import plt\n"
      ]
    },
    {
      "cell_type": "code",
      "execution_count": 3,
      "metadata": {},
      "outputs": [],
      "source": [
        "from VizPack.vizpack import Viz_Func"
      ]
    },
    {
      "cell_type": "code",
      "execution_count": 4,
      "metadata": {
        "colab": {
          "base_uri": "https://localhost:8080/"
        },
        "id": "0V3ncA-52En2",
        "outputId": "a9d9d104-9a51-425e-f5d9-8186f8a5b6d1"
      },
      "outputs": [
        {
          "name": "stdout",
          "output_type": "stream",
          "text": [
            "\n",
            "\n",
            " ========== Welcome to the Visualization Tool kit ========== \n",
            "\n",
            "\n"
          ]
        }
      ],
      "source": [
        "viz = Viz_Func()"
      ]
    },
    {
      "cell_type": "code",
      "execution_count": 5,
      "metadata": {
        "colab": {
          "base_uri": "https://localhost:8080/"
        },
        "id": "VzQjPH1675kr",
        "outputId": "917a4fb7-caf3-4655-a59d-4ebd98d15093"
      },
      "outputs": [
        {
          "name": "stdout",
          "output_type": "stream",
          "text": [
            "Help on Viz_Func in module VizPack.vizpack object:\n",
            "\n",
            "class Viz_Func(builtins.object)\n",
            " |  Methods defined here:\n",
            " |  \n",
            " |  __init__(self)\n",
            " |      Contains Methods for plotting visualizations from Pandas DataFrame\n",
            " |      - label_plot : Labelling a plot\n",
            " |      - plot_bar : Plotting a Bar Chart\n",
            " |      - plot_donut : Making a Donut Plot\n",
            " |      - annot_bar : Annotating a Barplot\n",
            " |  \n",
            " |  annot_bar(self, plots, horizontal=False)\n",
            " |      Parameters:\n",
            " |        plots : Barplot plots\n",
            " |                i.e. plots = sns.barplot(x, y)\n",
            " |  \n",
            " |  label_plot(self, title='Distribution Plot', x='X-axis', y='Y-axis')\n",
            " |      Parameters:\n",
            " |        title : str\n",
            " |                Default - 'Distribution Plot'\n",
            " |        \n",
            " |        x : X-axis label (str)\n",
            " |                Default - 'X-axis'\n",
            " |                \n",
            " |        y : Y-axis label (str)\n",
            " |                Default - 'Y-axis'\n",
            " |  \n",
            " |  plot_bar(self, dataset, limit=None, column=None, horizontal=False, figsize=(20, 10), color='darkcyan')\n",
            " |      Parameters:\n",
            " |        dataset : Pandas DataFrame, Pandas Series\n",
            " |      \n",
            " |        limit : Limit of Variables to Plot\n",
            " |                Useful in large datasets (None, int)\n",
            " |                Default - None\n",
            " |        \n",
            " |        column  : Dataset Column (None, str)\n",
            " |                  Default - None\n",
            " |        \n",
            " |        horizontal  : Should it be an Horizontal Plot (boolean)\n",
            " |                  Default - False\n",
            " |        \n",
            " |        figsize  : Figure Dimension (Tuple)\n",
            " |                  Default - (20,10)\n",
            " |        \n",
            " |        color  : Color of the bar (str)\n",
            " |                  Default - 'Darkcyan'\n",
            " |  \n",
            " |  plot_donut(self, dataset, limit=None, column=None, title='Donut Plot', figsize=(20, 10), shadow=False, colors=False, explode=False, background='white')\n",
            " |      Parameters:\n",
            " |        dataset : Pandas DataFrame, Pandas Series\n",
            " |        \n",
            " |        limit : Limit of Variables to Plot\n",
            " |                Useful in large datasets (None, int)\n",
            " |                Default - None\n",
            " |      \n",
            " |        column  : Dataset Column (None, str)\n",
            " |                  Default - None\n",
            " |        \n",
            " |        title : str\n",
            " |                Default - 'Donut Plot'\n",
            " |        \n",
            " |        figsize  : Figure Dimension (Tuple)\n",
            " |                  Default - (20,10)\n",
            " |        \n",
            " |        shadow  : Presence of Shadow (Boolean)\n",
            " |                  Default - False\n",
            " |        \n",
            " |        colors  : Colors of the bar (boolean, list)\n",
            " |                  Default - False\n",
            " |        \n",
            " |        explode  : Presence of Explosion (Boolean)\n",
            " |                  Default - False\n",
            " |        \n",
            " |        background  : Color of the background (str)\n",
            " |                  Default - 'white'\n",
            " |  \n",
            " |  ----------------------------------------------------------------------\n",
            " |  Data descriptors defined here:\n",
            " |  \n",
            " |  __dict__\n",
            " |      dictionary for instance variables (if defined)\n",
            " |  \n",
            " |  __weakref__\n",
            " |      list of weak references to the object (if defined)\n",
            "\n"
          ]
        }
      ],
      "source": [
        "help(viz)"
      ]
    },
    {
      "cell_type": "code",
      "execution_count": 6,
      "metadata": {
        "colab": {
          "base_uri": "https://localhost:8080/"
        },
        "id": "_A8qHxMK77tx",
        "outputId": "7a5ef6da-8573-48a9-b9fd-6454482a1a9f"
      },
      "outputs": [
        {
          "name": "stdout",
          "output_type": "stream",
          "text": [
            "=========== Custom Methods ===========\n",
            "-------------- annot_bar --------------\n",
            "-------------- label_plot --------------\n",
            "-------------- plot_bar --------------\n",
            "-------------- plot_donut --------------\n"
          ]
        }
      ],
      "source": [
        "# Printing out the custom methods\n",
        "\n",
        "print('=========== Custom Methods ===========')\n",
        "spacer = '--------------'\n",
        "\n",
        "for i in dir(viz):\n",
        "   if not i.startswith('_'): print(spacer, i, spacer)"
      ]
    },
    {
      "cell_type": "code",
      "execution_count": 7,
      "metadata": {},
      "outputs": [],
      "source": [
        "AlBet = ['Alpha', 'Beta', 'Gamma', 'Delta', 'Epsilon', 'Zeta', 'Eta', 'Theta', 'Iota', 'Kappa', 'Lamda', 'Mu', 'Nu', 'Xi', 'Omicron', 'Pi', 'Rho', 'Sigma', 'Tau', 'Upsilon', 'Phi', 'Chi', 'Psi', 'Omega']"
      ]
    },
    {
      "cell_type": "code",
      "execution_count": 8,
      "metadata": {},
      "outputs": [],
      "source": [
        "#Generating random data points\n",
        "import random\n",
        "random.seed(42)\n",
        "np.random.seed(42)\n",
        "\n",
        "\n",
        "A = np.random.randint(20, 500, 50_000)\n",
        "B = np.random.randint(2, 50, 50_000)\n",
        "C = random.sample( AlBet * 50_000, 50_000)\n",
        "\n",
        "indices = [f'numeral_{i}' for i in range(50_000)]"
      ]
    },
    {
      "cell_type": "code",
      "execution_count": 9,
      "metadata": {},
      "outputs": [
        {
          "data": {
            "text/html": [
              "<div>\n",
              "<style scoped>\n",
              "    .dataframe tbody tr th:only-of-type {\n",
              "        vertical-align: middle;\n",
              "    }\n",
              "\n",
              "    .dataframe tbody tr th {\n",
              "        vertical-align: top;\n",
              "    }\n",
              "\n",
              "    .dataframe thead th {\n",
              "        text-align: right;\n",
              "    }\n",
              "</style>\n",
              "<table border=\"1\" class=\"dataframe\">\n",
              "  <thead>\n",
              "    <tr style=\"text-align: right;\">\n",
              "      <th></th>\n",
              "      <th>Omicron</th>\n",
              "      <th>Gamma</th>\n",
              "      <th>Theta</th>\n",
              "      <th>Iota</th>\n",
              "      <th>Lamda</th>\n",
              "      <th>Sigma</th>\n",
              "      <th>Alpha</th>\n",
              "      <th>Mu</th>\n",
              "      <th>Rho</th>\n",
              "      <th>Zeta</th>\n",
              "      <th>...</th>\n",
              "      <th>Delta</th>\n",
              "      <th>Xi</th>\n",
              "      <th>Phi</th>\n",
              "      <th>Psi</th>\n",
              "      <th>Epsilon</th>\n",
              "      <th>Omega</th>\n",
              "      <th>Nu</th>\n",
              "      <th>Tau</th>\n",
              "      <th>Eta</th>\n",
              "      <th>Beta</th>\n",
              "    </tr>\n",
              "  </thead>\n",
              "  <tbody>\n",
              "    <tr>\n",
              "      <th>Count</th>\n",
              "      <td>2207</td>\n",
              "      <td>2192</td>\n",
              "      <td>2148</td>\n",
              "      <td>2145</td>\n",
              "      <td>2127</td>\n",
              "      <td>2119</td>\n",
              "      <td>2112</td>\n",
              "      <td>2106</td>\n",
              "      <td>2101</td>\n",
              "      <td>2093</td>\n",
              "      <td>...</td>\n",
              "      <td>2074</td>\n",
              "      <td>2065</td>\n",
              "      <td>2062</td>\n",
              "      <td>2056</td>\n",
              "      <td>2035</td>\n",
              "      <td>2020</td>\n",
              "      <td>2019</td>\n",
              "      <td>2006</td>\n",
              "      <td>1995</td>\n",
              "      <td>1986</td>\n",
              "    </tr>\n",
              "  </tbody>\n",
              "</table>\n",
              "<p>1 rows × 24 columns</p>\n",
              "</div>"
            ],
            "text/plain": [
              "       Omicron  Gamma  Theta  Iota  Lamda  Sigma  Alpha    Mu   Rho  Zeta  \\\n",
              "Count     2207   2192   2148  2145   2127   2119   2112  2106  2101  2093   \n",
              "\n",
              "       ...  Delta    Xi   Phi   Psi  Epsilon  Omega    Nu   Tau   Eta  Beta  \n",
              "Count  ...   2074  2065  2062  2056     2035   2020  2019  2006  1995  1986  \n",
              "\n",
              "[1 rows x 24 columns]"
            ]
          },
          "execution_count": 9,
          "metadata": {},
          "output_type": "execute_result"
        }
      ],
      "source": [
        "# Alphabet Count\n",
        "pd.DataFrame(pd.Series(C).value_counts(), columns = ['Count']).T"
      ]
    },
    {
      "cell_type": "code",
      "execution_count": 10,
      "metadata": {
        "colab": {
          "base_uri": "https://localhost:8080/",
          "height": 204
        },
        "id": "pX3SmKJg2GQS",
        "outputId": "32a7cbc1-36f9-4557-a2a3-5fd024fd3d05"
      },
      "outputs": [
        {
          "data": {
            "text/html": [
              "<div>\n",
              "<style scoped>\n",
              "    .dataframe tbody tr th:only-of-type {\n",
              "        vertical-align: middle;\n",
              "    }\n",
              "\n",
              "    .dataframe tbody tr th {\n",
              "        vertical-align: top;\n",
              "    }\n",
              "\n",
              "    .dataframe thead th {\n",
              "        text-align: right;\n",
              "    }\n",
              "</style>\n",
              "<table border=\"1\" class=\"dataframe\">\n",
              "  <thead>\n",
              "    <tr style=\"text-align: right;\">\n",
              "      <th></th>\n",
              "      <th>A</th>\n",
              "      <th>B</th>\n",
              "      <th>C</th>\n",
              "    </tr>\n",
              "  </thead>\n",
              "  <tbody>\n",
              "    <tr>\n",
              "      <th>numeral_0</th>\n",
              "      <td>122</td>\n",
              "      <td>4</td>\n",
              "      <td>Eta</td>\n",
              "    </tr>\n",
              "    <tr>\n",
              "      <th>numeral_1</th>\n",
              "      <td>455</td>\n",
              "      <td>39</td>\n",
              "      <td>Mu</td>\n",
              "    </tr>\n",
              "    <tr>\n",
              "      <th>numeral_2</th>\n",
              "      <td>368</td>\n",
              "      <td>36</td>\n",
              "      <td>Lamda</td>\n",
              "    </tr>\n",
              "    <tr>\n",
              "      <th>numeral_3</th>\n",
              "      <td>290</td>\n",
              "      <td>10</td>\n",
              "      <td>Omega</td>\n",
              "    </tr>\n",
              "    <tr>\n",
              "      <th>numeral_4</th>\n",
              "      <td>126</td>\n",
              "      <td>44</td>\n",
              "      <td>Lamda</td>\n",
              "    </tr>\n",
              "  </tbody>\n",
              "</table>\n",
              "</div>"
            ],
            "text/plain": [
              "             A   B      C\n",
              "numeral_0  122   4    Eta\n",
              "numeral_1  455  39     Mu\n",
              "numeral_2  368  36  Lamda\n",
              "numeral_3  290  10  Omega\n",
              "numeral_4  126  44  Lamda"
            ]
          },
          "execution_count": 10,
          "metadata": {},
          "output_type": "execute_result"
        }
      ],
      "source": [
        "#Creating a dataframe\n",
        "\n",
        "df = pd.DataFrame({\n",
        "    'A': A,\n",
        "    'B': B,\n",
        "    'C': C\n",
        "}, index = indices)\n",
        "\n",
        "df.head()"
      ]
    },
    {
      "cell_type": "code",
      "execution_count": 11,
      "metadata": {},
      "outputs": [
        {
          "name": "stdout",
          "output_type": "stream",
          "text": [
            "Help on class Viz_Func in module VizPack.vizpack:\n",
            "\n",
            "class Viz_Func(builtins.object)\n",
            " |  Methods defined here:\n",
            " |  \n",
            " |  __init__(self)\n",
            " |      Contains Methods for plotting visualizations from Pandas DataFrame\n",
            " |      - label_plot : Labelling a plot\n",
            " |      - plot_bar : Plotting a Bar Chart\n",
            " |      - plot_donut : Making a Donut Plot\n",
            " |      - annot_bar : Annotating a Barplot\n",
            " |  \n",
            " |  annot_bar(self, plots, horizontal=False)\n",
            " |      Parameters:\n",
            " |        plots : Barplot plots\n",
            " |                i.e. plots = sns.barplot(x, y)\n",
            " |  \n",
            " |  label_plot(self, title='Distribution Plot', x='X-axis', y='Y-axis')\n",
            " |      Parameters:\n",
            " |        title : str\n",
            " |                Default - 'Distribution Plot'\n",
            " |        \n",
            " |        x : X-axis label (str)\n",
            " |                Default - 'X-axis'\n",
            " |                \n",
            " |        y : Y-axis label (str)\n",
            " |                Default - 'Y-axis'\n",
            " |  \n",
            " |  plot_bar(self, dataset, limit=None, column=None, horizontal=False, figsize=(20, 10), color='darkcyan')\n",
            " |      Parameters:\n",
            " |        dataset : Pandas DataFrame, Pandas Series\n",
            " |      \n",
            " |        limit : Limit of Variables to Plot\n",
            " |                Useful in large datasets (None, int)\n",
            " |                Default - None\n",
            " |        \n",
            " |        column  : Dataset Column (None, str)\n",
            " |                  Default - None\n",
            " |        \n",
            " |        horizontal  : Should it be an Horizontal Plot (boolean)\n",
            " |                  Default - False\n",
            " |        \n",
            " |        figsize  : Figure Dimension (Tuple)\n",
            " |                  Default - (20,10)\n",
            " |        \n",
            " |        color  : Color of the bar (str)\n",
            " |                  Default - 'Darkcyan'\n",
            " |  \n",
            " |  plot_donut(self, dataset, limit=None, column=None, title='Donut Plot', figsize=(20, 10), shadow=False, colors=False, explode=False, background='white')\n",
            " |      Parameters:\n",
            " |        dataset : Pandas DataFrame, Pandas Series\n",
            " |        \n",
            " |        limit : Limit of Variables to Plot\n",
            " |                Useful in large datasets (None, int)\n",
            " |                Default - None\n",
            " |      \n",
            " |        column  : Dataset Column (None, str)\n",
            " |                  Default - None\n",
            " |        \n",
            " |        title : str\n",
            " |                Default - 'Donut Plot'\n",
            " |        \n",
            " |        figsize  : Figure Dimension (Tuple)\n",
            " |                  Default - (20,10)\n",
            " |        \n",
            " |        shadow  : Presence of Shadow (Boolean)\n",
            " |                  Default - False\n",
            " |        \n",
            " |        colors  : Colors of the bar (boolean, list)\n",
            " |                  Default - False\n",
            " |        \n",
            " |        explode  : Presence of Explosion (Boolean)\n",
            " |                  Default - False\n",
            " |        \n",
            " |        background  : Color of the background (str)\n",
            " |                  Default - 'white'\n",
            " |  \n",
            " |  ----------------------------------------------------------------------\n",
            " |  Data descriptors defined here:\n",
            " |  \n",
            " |  __dict__\n",
            " |      dictionary for instance variables (if defined)\n",
            " |  \n",
            " |  __weakref__\n",
            " |      list of weak references to the object (if defined)\n",
            "\n"
          ]
        }
      ],
      "source": [
        "help(Viz_Func)"
      ]
    },
    {
      "cell_type": "markdown",
      "metadata": {},
      "source": [
        "### **Creating a Barplot using VizFunc methods**"
      ]
    },
    {
      "cell_type": "code",
      "execution_count": 12,
      "metadata": {
        "colab": {
          "base_uri": "https://localhost:8080/",
          "height": 164
        },
        "id": "VuDeaMqx8aB5",
        "outputId": "5b5354f1-8fb0-43a1-d961-f0ff2b441e31"
      },
      "outputs": [
        {
          "data": {
            "image/png": "[encoded data removed]",
            "text/plain": [
              "<Figure size 1152x576 with 1 Axes>"
            ]
          },
          "metadata": {},
          "output_type": "display_data"
        }
      ],
      "source": [
        "# Labelling the plot \n",
        "viz.label_plot(\n",
        "    title ='Data Distribution Plot - A', \n",
        "    x ='Numerical Value',\n",
        "    y = 'Count')\n",
        "\n",
        "# Plotting the Bars\n",
        "plots = viz.plot_bar(\n",
        "    dataset = df, \n",
        "    limit = 10, \n",
        "    column ='A', \n",
        "    horizontal = False, \n",
        "    figsize = (16,8), \n",
        "    color = 'darkcyan')\n",
        "\n",
        "#Anotating the Bars \n",
        "viz.annot_bar(plots, horizontal = False)"
      ]
    },
    {
      "cell_type": "code",
      "execution_count": 13,
      "metadata": {},
      "outputs": [
        {
          "data": {
            "image/png": "[encoded data removed]",
            "text/plain": [
              "<Figure size 1152x576 with 1 Axes>"
            ]
          },
          "metadata": {},
          "output_type": "display_data"
        }
      ],
      "source": [
        "# Labelling the plot \n",
        "viz.label_plot(\n",
        "    title ='Distribution plot of Greek Alphabet', \n",
        "    x = 'Count',\n",
        "    y ='Alphabet')\n",
        "\n",
        "\n",
        "# Plotting the Bars\n",
        "plots = viz.plot_bar(\n",
        "    dataset = df, \n",
        "    limit = 10, \n",
        "    column ='C', \n",
        "    horizontal = True, \n",
        "    figsize = (16,8), \n",
        "    color = 'maroon')\n",
        "\n",
        "\n",
        "#Anotating the Bars\n",
        "viz.annot_bar(plots, horizontal = True)"
      ]
    },
    {
      "cell_type": "markdown",
      "metadata": {},
      "source": [
        "### **Creating a Donut plot using the plot_donut method**"
      ]
    },
    {
      "cell_type": "code",
      "execution_count": 14,
      "metadata": {},
      "outputs": [
        {
          "name": "stdout",
          "output_type": "stream",
          "text": [
            "Help on method plot_donut in module VizPack.vizpack:\n",
            "\n",
            "plot_donut(dataset, limit=None, column=None, title='Donut Plot', figsize=(20, 10), shadow=False, colors=False, explode=False, background='white') method of VizPack.vizpack.Viz_Func instance\n",
            "    Parameters:\n",
            "      dataset : Pandas DataFrame, Pandas Series\n",
            "      \n",
            "      limit : Limit of Variables to Plot\n",
            "              Useful in large datasets (None, int)\n",
            "              Default - None\n",
            "    \n",
            "      column  : Dataset Column (None, str)\n",
            "                Default - None\n",
            "      \n",
            "      title : str\n",
            "              Default - 'Donut Plot'\n",
            "      \n",
            "      figsize  : Figure Dimension (Tuple)\n",
            "                Default - (20,10)\n",
            "      \n",
            "      shadow  : Presence of Shadow (Boolean)\n",
            "                Default - False\n",
            "      \n",
            "      colors  : Colors of the bar (boolean, list)\n",
            "                Default - False\n",
            "      \n",
            "      explode  : Presence of Explosion (Boolean)\n",
            "                Default - False\n",
            "      \n",
            "      background  : Color of the background (str)\n",
            "                Default - 'white'\n",
            "\n"
          ]
        }
      ],
      "source": [
        "help(viz.plot_donut)"
      ]
    },
    {
      "cell_type": "code",
      "execution_count": 15,
      "metadata": {
        "colab": {
          "base_uri": "https://localhost:8080/",
          "height": 623
        },
        "id": "iefameJr9O7y",
        "outputId": "f335c326-a667-4fb4-da54-e062e868c10d"
      },
      "outputs": [
        {
          "data": {
            "image/png": "[encoded data removed]",
            "text/plain": [
              "<Figure size 1440x720 with 1 Axes>"
            ]
          },
          "metadata": {},
          "output_type": "display_data"
        }
      ],
      "source": [
        "viz.plot_donut(df,\n",
        "               limit = 7, \n",
        "               column = 'C', \n",
        "               title = 'Plot: Distribution of Greek Alphabets',\n",
        "               shadow = False,\n",
        "               explode = False, background = 'white'\n",
        "               )"
      ]
    },
    {
      "cell_type": "markdown",
      "metadata": {},
      "source": [
        "### **Let's Connect**\n",
        "<p>\n",
        "  Author: Alao David I. <br/>\n",
        "  Date: 2nd of Jan. 2022\n",
        "  <!--ul>\n",
        "    <li>Author: Alao David I.</li>\n",
        "    <li>Date: 12th of Aug. 2021</li>\n",
        "  </ul-->\n",
        " \n",
        "  <a href=\"https://bit.ly/3kkaHhz\">\n",
        "    <img align=\"right\" height=100 width=100 src=\"https://cvs-disease.herokuapp.com/static/images/profile.259def32692b.jpeg\" />\n",
        "  </a>\n",
        "</p>\n",
        "\n",
        "<table>\n",
        "<tbody>\n",
        "<tr>\n",
        "<td><a href=\"https://invest41.github.io/AlaoDavid.github.io/\" target=\"_blank\">Project Portfolio</a></td>\n",
        "<td><a href=\"https://github.com/invest41\" target=\"_blank\">GitHub</a></td>\n",
        "<td><a href=\"https://mobile.twitter.com/Wilder_Maxim\" target=\"_blank\">Twitter</a></td>\n",
        "<td><a href=\"https://www.kaggle.com/welcomehere\" target=\"_blank\">Kaggle</a></td>\n",
        "<td><a href=\"https://www.linkedin.com/in/david-alao-72362113b/\" target=\"_blank\">Linkedin</a></td>\n",
        "<td><a href=\"https://public.tableau.com/app/profile/alao.david\" target=\"_blank\">Tableau</a></td>\n",
        "</tbody>\n",
        "</table>"
      ]
    }
  ],
  "metadata": {
    "colab": {
      "authorship_tag": "ABX9TyPwAhNkPqlQZpNU5pTh4aKW",
      "collapsed_sections": [],
      "include_colab_link": true,
      "name": "Viz_Package.ipynb",
      "provenance": []
    },
    "kernelspec": {
      "display_name": "Python 3",
      "name": "python3"
    },
    "language_info": {
      "codemirror_mode": {
        "name": "ipython",
        "version": 3
      },
      "file_extension": ".py",
      "mimetype": "text/x-python",
      "name": "python",
      "nbconvert_exporter": "python",
      "pygments_lexer": "ipython3",
      "version": "3.10.1"
    }
  },
  "nbformat": 4,
  "nbformat_minor": 0
}
